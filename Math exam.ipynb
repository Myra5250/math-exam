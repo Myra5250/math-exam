{
 "cells": [
  {
   "cell_type": "code",
   "execution_count": 17,
   "id": "307b21be-06ea-46a7-9022-1e1860d6c00d",
   "metadata": {},
   "outputs": [],
   "source": [
    "import numpy as np"
   ]
  },
  {
   "cell_type": "markdown",
   "id": "2287ea3b-fbb9-4400-8424-d16aa63be44b",
   "metadata": {},
   "source": [
    "## Question 5"
   ]
  },
  {
   "cell_type": "code",
   "execution_count": 20,
   "id": "ff966543-1edf-45df-96e9-4e470912ba06",
   "metadata": {},
   "outputs": [
    {
     "data": {
      "text/plain": [
       "array([[1. , 0.2, 0.5],\n",
       "       [0.2, 1. , 0.8],\n",
       "       [0.5, 0.8, 1. ]])"
      ]
     },
     "execution_count": 20,
     "metadata": {},
     "output_type": "execute_result"
    }
   ],
   "source": [
    "y =np.array([[1,0.2,0.5],[0.2,1,0.8],[0.5,0.8,1]])\n",
    "y"
   ]
  },
  {
   "cell_type": "markdown",
   "id": "422cf158-ead7-4403-bd3f-24f2dd373599",
   "metadata": {},
   "source": [
    "## i)"
   ]
  },
  {
   "cell_type": "code",
   "execution_count": 23,
   "id": "0c05ccad-037b-4f74-ad7b-9a74bf8a8301",
   "metadata": {},
   "outputs": [
    {
     "data": {
      "text/plain": [
       "array([[1. , 0.2, 0.5],\n",
       "       [0.2, 1. , 0.8],\n",
       "       [0.5, 0.8, 1. ]])"
      ]
     },
     "execution_count": 23,
     "metadata": {},
     "output_type": "execute_result"
    }
   ],
   "source": [
    "y.T\n",
    "y"
   ]
  },
  {
   "cell_type": "markdown",
   "id": "222ac376-53a0-4d6d-8397-b9312dedef69",
   "metadata": {},
   "source": [
    "## ii)"
   ]
  },
  {
   "cell_type": "code",
   "execution_count": 26,
   "id": "f208c444-3ec7-40e2-8c18-dd3df31b3ccb",
   "metadata": {},
   "outputs": [
    {
     "data": {
      "text/plain": [
       "0.2299999999999999"
      ]
     },
     "execution_count": 26,
     "metadata": {},
     "output_type": "execute_result"
    }
   ],
   "source": [
    "y = np.linalg.det(y)\n",
    "y"
   ]
  },
  {
   "cell_type": "markdown",
   "id": "67cb4ce6-14d4-46be-97cd-0b0edfbb473b",
   "metadata": {},
   "source": [
    " ## iii)"
   ]
  },
  {
   "cell_type": "markdown",
   "id": "87e80214-300d-472e-a203-46619f0b1c3e",
   "metadata": {},
   "source": [
    "## iv)"
   ]
  },
  {
   "cell_type": "markdown",
   "id": "65e59639-b8f6-42c7-abdd-7ecd16c884b8",
   "metadata": {},
   "source": [
    "## Question 6"
   ]
  },
  {
   "cell_type": "markdown",
   "id": "7ca6ce03-91f7-4ae5-9f79-14ec4f496481",
   "metadata": {},
   "source": [
    "## i)"
   ]
  },
  {
   "cell_type": "code",
   "execution_count": 34,
   "id": "7f229a4c-7cc1-429f-abe5-766f879409b4",
   "metadata": {},
   "outputs": [],
   "source": [
    "from numpy import random"
   ]
  },
  {
   "cell_type": "code",
   "execution_count": 36,
   "id": "4904afe6-8e8a-40c4-9955-1d76ec6b44e6",
   "metadata": {},
   "outputs": [
    {
     "data": {
      "text/plain": [
       "array([ 3,  2,  5,  8,  6,  5,  2,  5,  5,  1,  6,  2,  5,  5,  3,  5,  2,\n",
       "        7, 10,  6,  8,  4,  3,  6,  8,  3,  4,  5,  4,  4,  4,  4,  3,  5,\n",
       "        5,  7,  6,  5,  4,  7,  5,  4,  5,  6,  3,  6,  5,  2,  3,  2,  8,\n",
       "        4,  2,  3,  3,  4,  5,  6,  8,  3,  7, 10,  5,  6,  6,  5,  6,  5,\n",
       "        3,  2,  1,  4,  8,  3,  5,  2,  5,  6,  5,  7,  2,  3,  4,  5,  3,\n",
       "        3,  4,  4,  3,  3,  4, 10,  6,  3,  9,  5,  3,  2,  3,  5,  2,  3,\n",
       "        0,  3,  6,  3,  4,  7, 10,  7,  4,  1,  6,  4,  3,  8,  6,  3,  7,\n",
       "        7,  6,  7,  6,  3,  5,  6,  3,  3,  8,  3,  7,  6,  6,  8,  4,  4,\n",
       "        8,  7,  8,  7,  9,  5,  6,  2,  6,  3,  6,  8,  3,  5,  7,  4,  5,\n",
       "        3,  2,  7,  4,  3,  2,  0,  3,  4,  6,  6,  3,  4,  5,  5,  4,  4,\n",
       "        3,  1,  4,  5,  6,  8,  6,  2,  4,  4,  6,  6,  4,  3,  5,  5,  6,\n",
       "        5,  9,  7,  2,  6, 11,  5,  4,  6,  4,  7,  4,  6,  5,  6,  7,  9,\n",
       "        4,  1,  4,  7,  4,  4,  7,  7,  1,  6,  3,  4,  5,  7,  8,  9,  7,\n",
       "        6,  5,  2,  3,  3,  4,  5,  6,  7,  5,  3,  1,  0,  4,  4,  4,  4,\n",
       "        6,  5, 10,  4,  1,  7, 11,  3,  6,  2,  3,  4,  5,  4,  4,  3,  4,\n",
       "        6,  3,  2,  5,  4,  5,  7,  5,  6,  2,  3,  8,  4,  9,  3,  5, 10,\n",
       "        3,  4,  7,  7,  2,  4,  2,  1,  3,  5,  3,  4,  4, 11,  6,  3,  5,\n",
       "        2,  6,  2,  3,  6,  7,  3,  5,  7,  2,  5,  5, 10,  2,  3,  8,  5,\n",
       "        4,  6,  3,  3,  5,  2,  7,  5,  5,  8,  5,  4,  3,  4,  2,  5,  4,\n",
       "        5,  4,  7,  5,  3,  1,  3,  1,  3,  5,  5,  6,  2,  2,  6,  6,  7,\n",
       "       11,  4,  8,  4,  3,  7,  3,  3, 14,  2,  6,  2, 11,  3,  3,  6,  4,\n",
       "        4,  6,  4,  6,  8,  4,  3,  6,  5,  4,  3,  7,  7,  5,  2,  3,  1,\n",
       "        3,  2,  7,  4,  3,  3,  8, 10,  5,  8,  5,  5,  5,  8,  6,  8,  5,\n",
       "        2,  2,  9,  6,  7,  3,  9,  2,  0,  4,  4,  6,  2,  4,  9,  7,  5,\n",
       "       10,  8,  8,  5,  3,  6,  6,  1,  9,  5,  6,  4,  3,  4,  9,  7,  5,\n",
       "       11,  0,  7,  1,  3,  9,  4,  6,  5,  4,  5,  3,  4,  3,  4,  4,  4,\n",
       "        3,  3, 10,  5,  2,  2,  5,  3,  6,  5,  7,  8,  2,  3,  4,  4,  3,\n",
       "        2,  6,  5,  3,  8,  2,  2,  2,  4,  9,  6,  8,  2,  9,  2,  3,  8,\n",
       "        8,  7,  3,  4, 12,  5,  2,  2,  3,  6,  2,  3,  5,  7,  7,  5,  4,\n",
       "        6, 10,  6,  6,  5,  7,  5,  6,  6,  4,  2,  5,  2,  5,  6,  5,  8,\n",
       "        4,  5,  7,  7,  9,  5,  9,  3,  3,  2,  7,  2,  1,  3,  2,  0,  2,\n",
       "        4,  4,  4,  5,  2,  4,  2,  7,  3,  8,  4,  2,  4,  8,  4,  5,  3,\n",
       "        5,  4,  0,  9,  3,  9,  8,  3,  6,  6,  3,  3, 10,  0, 10,  3,  2,\n",
       "        7,  3,  8,  1,  7,  2,  8,  5,  3,  4,  5,  9,  7,  3,  7,  5,  5,\n",
       "        3,  7,  4,  5,  3,  7,  3,  4,  3,  5,  4,  4,  6,  4,  4,  5,  8,\n",
       "       10,  4,  4,  8,  8,  6,  4,  4,  3,  7,  5,  5,  3,  6,  4,  3,  3,\n",
       "        1,  4,  2,  4,  7,  1,  5,  3,  4,  3,  3,  4,  8,  1,  5,  5,  4,\n",
       "        8,  1,  3,  3,  4,  8,  2,  2,  9,  6,  3,  8,  4,  3,  5,  4,  4,\n",
       "        2,  7,  5,  9,  2,  6,  4,  3,  6,  6,  6,  1,  4,  5,  2,  1,  4,\n",
       "        4,  6,  3,  4,  6,  5, 10,  8,  7,  3,  5,  5,  4,  1,  6,  8,  9,\n",
       "        3,  9,  5,  3,  2,  5,  7,  3,  7,  4,  3,  6,  4,  5,  6,  3,  7,\n",
       "        4,  8,  6,  6,  5,  3,  9,  7,  6,  6,  3,  4,  4,  4,  6,  4,  5,\n",
       "        8,  7,  4,  3, 11,  5,  7,  6,  5,  7,  4,  8,  5,  4,  5,  7,  3,\n",
       "        5,  4,  2,  4,  5,  0,  2,  7,  4,  8, 13,  4,  4,  2,  3,  5,  2,\n",
       "        3,  7,  5,  3,  3,  6,  6,  3,  5,  8,  4,  2,  4,  5,  4,  8,  3,\n",
       "        7,  8,  3,  7,  4,  3,  7,  6,  5,  3,  3,  7,  4,  2,  6,  2,  5,\n",
       "        7,  1,  7,  6,  1,  5,  3,  4,  4,  2,  1,  4,  1,  4,  6,  6,  2,\n",
       "        6,  6,  5,  4,  4,  4,  4,  3,  3,  6,  8,  7,  3, 10,  5,  8,  4,\n",
       "        6,  6,  4,  3,  4,  4,  6,  9,  6,  4,  7,  5,  6,  7,  3,  4,  2,\n",
       "        6,  5,  6,  6,  4,  5,  6,  7,  6,  7,  6,  4,  3,  6,  7,  4,  5,\n",
       "        8,  8,  2,  5,  6,  6,  5,  4,  7,  8,  3, 10,  6,  3,  7,  6,  4,\n",
       "        8,  4,  2,  6,  6,  3,  6,  5,  5,  0,  7,  4,  3,  7,  3,  3,  5,\n",
       "        5,  4,  3,  4,  5,  5,  5,  8,  1,  4,  2, 10,  8,  4,  8,  5,  5,\n",
       "        4,  4,  6,  6,  3,  4,  2,  4,  2,  1,  7,  1,  4,  3,  4,  8,  3,\n",
       "        3,  1,  6,  5,  6,  3,  4,  8,  5,  4,  5,  1, 10,  5,  5,  3,  5,\n",
       "        7,  5,  8,  4,  5,  4,  3,  9,  3,  7,  3,  5,  5,  9,  4,  6,  5,\n",
       "        7,  4,  4,  4,  4,  6,  7,  2,  1,  5,  8,  3,  4,  4,  4,  4,  2,\n",
       "        7,  5,  4,  1,  8,  8,  3,  5,  2,  9,  5,  2,  1,  4,  2,  4,  5,\n",
       "        6,  2,  2,  4,  2,  8,  1,  5,  7,  2,  2,  4,  5,  5])"
      ]
     },
     "execution_count": 36,
     "metadata": {},
     "output_type": "execute_result"
    }
   ],
   "source": [
    "m = random.poisson(lam=5, size=1000)\n",
    "m"
   ]
  },
  {
   "cell_type": "markdown",
   "id": "5bbb3ac7-0a36-415b-b0fb-9e2b638167d0",
   "metadata": {},
   "source": [
    "## ii)"
   ]
  },
  {
   "cell_type": "code",
   "execution_count": 48,
   "id": "d1d8b33e-7475-42f3-8023-70842e3b0021",
   "metadata": {},
   "outputs": [
    {
     "data": {
      "text/plain": [
       "4.802"
      ]
     },
     "execution_count": 48,
     "metadata": {},
     "output_type": "execute_result"
    }
   ],
   "source": [
    "m = m.mean()\n",
    "m"
   ]
  },
  {
   "cell_type": "code",
   "execution_count": 64,
   "id": "9b237c4b-9c4d-4da4-a44f-8d5b6fb6ff3a",
   "metadata": {},
   "outputs": [
    {
     "data": {
      "text/plain": [
       "0.0"
      ]
     },
     "execution_count": 64,
     "metadata": {},
     "output_type": "execute_result"
    }
   ],
   "source": [
    "m = m.var()\n",
    "m"
   ]
  },
  {
   "cell_type": "markdown",
   "id": "b9d83cbc-8f67-441d-8422-66e03cf49ce5",
   "metadata": {},
   "source": [
    "## iii)"
   ]
  },
  {
   "cell_type": "code",
   "execution_count": 42,
   "id": "f42772d7-649d-4a0d-8571-0dc8cafcd24f",
   "metadata": {},
   "outputs": [],
   "source": [
    "import seaborn as sns"
   ]
  },
  {
   "cell_type": "code",
   "execution_count": 52,
   "id": "36538557-16d2-4cee-b652-1202ffff86c4",
   "metadata": {},
   "outputs": [],
   "source": [
    "import matplotlib.pyplot as plt"
   ]
  },
  {
   "cell_type": "code",
   "execution_count": 54,
   "id": "48051a56-4e90-49a2-a655-223542bda206",
   "metadata": {},
   "outputs": [
    {
     "data": {
      "image/png": "[encoded data removed]",
      "text/plain": [
       "<Figure size 640x480 with 1 Axes>"
      ]
     },
     "metadata": {},
     "output_type": "display_data"
    }
   ],
   "source": [
    "poisson_data = random.poisson(lam=5, size=1000)\n",
    "sns.histplot(poisson_data, bins=10, color=\"blue\")\n",
    "plt.xlabel(\"samples\")\n",
    "plt.ylabel(\"frequency\")\n",
    "plt.title(\"A histogram showing visualization of the distribution\")\n",
    "plt.show()"
   ]
  },
  {
   "cell_type": "code",
   "execution_count": null,
   "id": "9ceb8a25-4ec4-40cf-8d34-ce53e1540256",
   "metadata": {},
   "outputs": [],
   "source": []
  }
 ],
 "metadata": {
  "kernelspec": {
   "display_name": "Python 3 (ipykernel)",
   "language": "python",
   "name": "python3"
  },
  "language_info": {
   "codemirror_mode": {
    "name": "ipython",
    "version": 3
   },
   "file_extension": ".py",
   "mimetype": "text/x-python",
   "name": "python",
   "nbconvert_exporter": "python",
   "pygments_lexer": "ipython3",
   "version": "3.12.4"
  }
 },
 "nbformat": 4,
 "nbformat_minor": 5
}
